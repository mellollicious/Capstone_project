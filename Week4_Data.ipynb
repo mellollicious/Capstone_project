{
    "nbformat_minor": 1, 
    "cells": [
        {
            "source": "<h1>Data</h1>", 
            "cell_type": "markdown", 
            "metadata": {
                "collapsed": true
            }
        }, 
        {
            "source": "To solve the mentioned problem we would need the following data:\n1. List of New York city neighborhoods and their coordinates\n2. Data on characteristics of the neighborhoods, such as crime rate, parks availability, rent prices, commuting time, cleanliness of the streets etc.\n3. Venue data, in particular data regarding the location of special schools in neighborhoods ", 
            "cell_type": "markdown", 
            "metadata": {}
        }, 
        {
            "source": "**The list of 306 NYC neighborhoods and coordinates** used in the analysis is available [here](https://cocl.us/new_york_dataset).\n<br>\n<br>\nWe get **the data on the profiles of neighborhoods** from the government site on [NYC Community District Profiles](https://communityprofiles.planning.nyc.gov/). The dataset is provided in csv format and includes 60 observations corresponding to the number of community districts and nearly 200 variables. However, not all of them are useful for the analysis. We decided to use ten of them, namely: \n\n1. qcd_full_title - name of Community District\n2. pct_lot_area_open_space - parkland and open space area (as % of total CD area)\n3. crime_per_1000 - number of crimes per 1000 people in CD\n4. pct_hh_rent_burd' - Percentage of households that spend 35% or more of their income on rent\n5. mean_commute - Mean commute time to work for residents\n6. unemployment_cd - unemployment in CD\n7. neighborhoods_x - neighborhoods included in the CD\n8. pct_clean_strts - percentage of streets rated acceptably clean in the CD\n9. poverty_rate - poverty rate in CD\n10 .pct_lot_area___industrial_manufacturing - percentage of lot area in CD with industrial/manufacturing buildings\n<br>\n\nFoursquare API is used to obtain the **venue data for the neighborhoods** in New York. Foursquare API provides access to data of over 100 million places including the information on category of the venue and its accurate location.", 
            "cell_type": "markdown", 
            "metadata": {}
        }
    ], 
    "metadata": {
        "kernelspec": {
            "display_name": "Python 3.5", 
            "name": "python3", 
            "language": "python"
        }, 
        "language_info": {
            "mimetype": "text/x-python", 
            "nbconvert_exporter": "python", 
            "version": "3.5.5", 
            "name": "python", 
            "file_extension": ".py", 
            "pygments_lexer": "ipython3", 
            "codemirror_mode": {
                "version": 3, 
                "name": "ipython"
            }
        }
    }, 
    "nbformat": 4
}
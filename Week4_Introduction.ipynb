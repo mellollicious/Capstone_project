{
    "nbformat_minor": 1, 
    "cells": [
        {
            "source": "<h1>Introduction</h1>", 
            "cell_type": "markdown", 
            "metadata": {
                "collapsed": true
            }
        }, 
        {
            "source": "Our company offers rental advise and broking services. We help people to find a place to live that would fit their needs. Using open data sources and data science techniques we are able to consider large amount of variables that can influence one's housing choices and build models that would provide best housing recommendations.\n<br>\nOne of our current clients is a family that lives in neighborhood of Bay Terrace, NY. Recently one of the parents received an attractive job offer in a bank located on Wall Street. Since the distance between these two locations is quite big, the family decided to search for a similar neighbourhood in terms of safety, park accessibility, social status of residents etc, that would be closer to the office - no more than 15 km apart. The traffic congestion and commuting time should be not worse than at Bay Terrace. Moreover, since one of the children is disabled, they would like to choose location that has at least one special school in the immediate neighborhood. The family was contend with the accessibility to different venues in Bay Terrace  such as supermarkets, playgrounds, resteurants etc., so they would like to live in a neighbourhood that has similar venues, if possible.\n", 
            "cell_type": "markdown", 
            "metadata": {}
        }, 
        {
            "execution_count": null, 
            "cell_type": "code", 
            "metadata": {}, 
            "outputs": [], 
            "source": ""
        }
    ], 
    "metadata": {
        "kernelspec": {
            "display_name": "Python 3.5", 
            "name": "python3", 
            "language": "python"
        }, 
        "language_info": {
            "mimetype": "text/x-python", 
            "nbconvert_exporter": "python", 
            "version": "3.5.5", 
            "name": "python", 
            "file_extension": ".py", 
            "pygments_lexer": "ipython3", 
            "codemirror_mode": {
                "version": 3, 
                "name": "ipython"
            }
        }
    }, 
    "nbformat": 4
}